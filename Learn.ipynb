{
 "cells": [
  {
   "cell_type": "code",
   "execution_count": 3,
   "id": "149839a5",
   "metadata": {},
   "outputs": [
    {
     "name": "stdout",
     "output_type": "stream",
     "text": [
      "this is a simple statement \n",
      "contain with new line\n"
     ]
    }
   ],
   "source": [
    "print('this is a simple statement \\ncontain with new line')"
   ]
  },
  {
   "cell_type": "code",
   "execution_count": null,
   "id": "61a6d720",
   "metadata": {},
   "outputs": [],
   "source": []
  }
 ],
 "metadata": {
  "kernelspec": {
   "display_name": "Python 3 (ipykernel)",
   "language": "python",
   "name": "python3"
  },
  "language_info": {
   "codemirror_mode": {
    "name": "ipython",
    "version": 3
   },
   "file_extension": ".py",
   "mimetype": "text/x-python",
   "name": "python",
   "nbconvert_exporter": "python",
   "pygments_lexer": "ipython3",
   "version": "3.10.9"
  }
 },
 "nbformat": 4,
 "nbformat_minor": 5
}
